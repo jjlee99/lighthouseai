{
 "cells": [
  {
   "cell_type": "code",
   "execution_count": 1,
   "id": "fec647e0",
   "metadata": {},
   "outputs": [
    {
     "name": "stdout",
     "output_type": "stream",
     "text": [
      "Imported v0.1.901. Please call AutoViz in this sequence:\n",
      "    AV = AutoViz_Class()\n",
      "    %matplotlib inline\n",
      "    dfte = AV.AutoViz(filename, sep=',', depVar='', dfte=None, header=0, verbose=1, lowess=False,\n",
      "               chart_format='svg',max_rows_analyzed=150000,max_cols_analyzed=30, save_plot_dir=None)\n"
     ]
    }
   ],
   "source": [
    "import pandas as pd\n",
    "import os\n",
    "import lighthouse_func as lf"
   ]
  },
  {
   "cell_type": "code",
   "execution_count": 2,
   "id": "f196e96f-6e80-4119-b8a2-2b51a54f9016",
   "metadata": {},
   "outputs": [],
   "source": [
    " #분류/회귀\n",
    "project = '107' # 프로젝트 번호를 입력해주세요.\n",
    "dataset = 'adult' # 다운받으신 데이터셋명을 확장자 제외하고 입력해주세요.\n",
    "train_size = 0.7 # 훈련-평가 데이터셋 비율입력하십시오.\n",
    "prediction = 'income' # 예측하려는 변수를 입력하세요.\n",
    "project_type = '분류' # 머신러닝 방법(회귀, 분류)은 선택해서 입력해주십시오.\n",
    "model = 'gbc' # 사용하고자하는 머신러닝 모델을 입력하세요.\n",
    "# (rf : 랜덤포레스트, lr : 선형 분류 모델, xgboost : 극한 변화도 부스팅 모델, gbc : 그래디언트 부스팅 모델, et: 엑스트라 트리 모델 등등)\n",
    "sensitive_features = ['gender','race']\n",
    "verboose = False # 아웃풋을 생략할지 표기할지 설정합니다"
   ]
  },
  {
   "cell_type": "code",
   "execution_count": 3,
   "id": "b369c955-23be-4abd-93bb-b5ba99bd4588",
   "metadata": {},
   "outputs": [
    {
     "name": "stdout",
     "output_type": "stream",
     "text": [
      "pycaret.classification 모듈이 성공적으로 import 되었습니다.\n"
     ]
    }
   ],
   "source": [
    "# 문제 유형 받기\n",
    "lf.lighthouse_setup(project_type)"
   ]
  },
  {
   "cell_type": "code",
   "execution_count": 4,
   "id": "ff947620",
   "metadata": {},
   "outputs": [
    {
     "data": {
      "text/plain": [
       "'d:\\\\task_folder\\\\sources\\\\dship_model'"
      ]
     },
     "execution_count": 4,
     "metadata": {},
     "output_type": "execute_result"
    }
   ],
   "source": [
    "os.getcwd()"
   ]
  },
  {
   "cell_type": "code",
   "execution_count": 5,
   "id": "a5784c69-5a5b-493c-9dc7-3cf1fe8c2da1",
   "metadata": {},
   "outputs": [],
   "source": [
    "\n",
    "df = pd.read_csv(f'./ori_data/{dataset}.csv', encoding='utf-8')"
   ]
  },
  {
   "cell_type": "markdown",
   "id": "ab90660f-2565-4acf-ba9d-f6abfaff57fa",
   "metadata": {},
   "source": [
    "#### 기초 eda"
   ]
  },
  {
   "cell_type": "markdown",
   "id": "73fe4f5b-a3b3-43cb-862e-e0bdbc824fcf",
   "metadata": {},
   "source": [
    "## lighthouse 전처리 전 시각화"
   ]
  },
  {
   "cell_type": "code",
   "execution_count": 7,
   "id": "87e3ec0b-46d4-49da-8edb-01175ad270cb",
   "metadata": {},
   "outputs": [
    {
     "ename": "FileNotFoundError",
     "evalue": "[Errno 2] No such file or directory: 'C:\\\\Users\\\\digitalship_PC/ori_data/adult.csv'",
     "output_type": "error",
     "traceback": [
      "\u001b[1;31m---------------------------------------------------------------------------\u001b[0m",
      "\u001b[1;31mFileNotFoundError\u001b[0m                         Traceback (most recent call last)",
      "Cell \u001b[1;32mIn[7], line 2\u001b[0m\n\u001b[0;32m      1\u001b[0m \u001b[38;5;66;03m# lighthouse 시각화\u001b[39;00m\n\u001b[1;32m----> 2\u001b[0m \u001b[43mlf\u001b[49m\u001b[38;5;241;43m.\u001b[39;49m\u001b[43mlh_ori_vis\u001b[49m\u001b[43m(\u001b[49m\u001b[43mdataset\u001b[49m\u001b[43m,\u001b[49m\u001b[43mprediction\u001b[49m\u001b[43m)\u001b[49m\n",
      "File \u001b[1;32md:\\task_folder\\sources\\dship_model\\lighthouse_func.py:252\u001b[0m, in \u001b[0;36mlh_ori_vis\u001b[1;34m(dataset, prediction)\u001b[0m\n\u001b[0;32m    251\u001b[0m \u001b[38;5;28;01mdef\u001b[39;00m \u001b[38;5;21mlh_ori_vis\u001b[39m(dataset,prediction):\n\u001b[1;32m--> 252\u001b[0m     df \u001b[38;5;241m=\u001b[39m \u001b[43mpd\u001b[49m\u001b[38;5;241;43m.\u001b[39;49m\u001b[43mread_csv\u001b[49m\u001b[43m(\u001b[49m\u001b[38;5;124;43mf\u001b[39;49m\u001b[38;5;124;43m'\u001b[39;49m\u001b[38;5;124;43m~/ori_data/\u001b[39;49m\u001b[38;5;132;43;01m{\u001b[39;49;00m\u001b[43mdataset\u001b[49m\u001b[38;5;132;43;01m}\u001b[39;49;00m\u001b[38;5;124;43m.csv\u001b[39;49m\u001b[38;5;124;43m'\u001b[39;49m\u001b[43m,\u001b[49m\u001b[43m \u001b[49m\u001b[43mencoding\u001b[49m\u001b[38;5;241;43m=\u001b[39;49m\u001b[38;5;124;43m'\u001b[39;49m\u001b[38;5;124;43mutf-8\u001b[39;49m\u001b[38;5;124;43m'\u001b[39;49m\u001b[43m)\u001b[49m\n\u001b[0;32m    253\u001b[0m     \u001b[38;5;28mprint\u001b[39m(\u001b[38;5;124m\"\u001b[39m\u001b[38;5;130;01m\\n\u001b[39;00m\u001b[38;5;124m원천 데이터 시각화 1\u001b[39m\u001b[38;5;124m\"\u001b[39m)\n\u001b[0;32m    254\u001b[0m     walke1 \u001b[38;5;241m=\u001b[39m pyg\u001b[38;5;241m.\u001b[39mwalk(df)\n",
      "File \u001b[1;32md:\\task_folder\\sources\\dship_model\\lighthouse_venv\\lib\\site-packages\\pandas\\util\\_decorators.py:211\u001b[0m, in \u001b[0;36mdeprecate_kwarg.<locals>._deprecate_kwarg.<locals>.wrapper\u001b[1;34m(*args, **kwargs)\u001b[0m\n\u001b[0;32m    209\u001b[0m     \u001b[38;5;28;01melse\u001b[39;00m:\n\u001b[0;32m    210\u001b[0m         kwargs[new_arg_name] \u001b[38;5;241m=\u001b[39m new_arg_value\n\u001b[1;32m--> 211\u001b[0m \u001b[38;5;28;01mreturn\u001b[39;00m \u001b[43mfunc\u001b[49m\u001b[43m(\u001b[49m\u001b[38;5;241;43m*\u001b[39;49m\u001b[43margs\u001b[49m\u001b[43m,\u001b[49m\u001b[43m \u001b[49m\u001b[38;5;241;43m*\u001b[39;49m\u001b[38;5;241;43m*\u001b[39;49m\u001b[43mkwargs\u001b[49m\u001b[43m)\u001b[49m\n",
      "File \u001b[1;32md:\\task_folder\\sources\\dship_model\\lighthouse_venv\\lib\\site-packages\\pandas\\util\\_decorators.py:331\u001b[0m, in \u001b[0;36mdeprecate_nonkeyword_arguments.<locals>.decorate.<locals>.wrapper\u001b[1;34m(*args, **kwargs)\u001b[0m\n\u001b[0;32m    325\u001b[0m \u001b[38;5;28;01mif\u001b[39;00m \u001b[38;5;28mlen\u001b[39m(args) \u001b[38;5;241m>\u001b[39m num_allow_args:\n\u001b[0;32m    326\u001b[0m     warnings\u001b[38;5;241m.\u001b[39mwarn(\n\u001b[0;32m    327\u001b[0m         msg\u001b[38;5;241m.\u001b[39mformat(arguments\u001b[38;5;241m=\u001b[39m_format_argument_list(allow_args)),\n\u001b[0;32m    328\u001b[0m         \u001b[38;5;167;01mFutureWarning\u001b[39;00m,\n\u001b[0;32m    329\u001b[0m         stacklevel\u001b[38;5;241m=\u001b[39mfind_stack_level(),\n\u001b[0;32m    330\u001b[0m     )\n\u001b[1;32m--> 331\u001b[0m \u001b[38;5;28;01mreturn\u001b[39;00m \u001b[43mfunc\u001b[49m\u001b[43m(\u001b[49m\u001b[38;5;241;43m*\u001b[39;49m\u001b[43margs\u001b[49m\u001b[43m,\u001b[49m\u001b[43m \u001b[49m\u001b[38;5;241;43m*\u001b[39;49m\u001b[38;5;241;43m*\u001b[39;49m\u001b[43mkwargs\u001b[49m\u001b[43m)\u001b[49m\n",
      "File \u001b[1;32md:\\task_folder\\sources\\dship_model\\lighthouse_venv\\lib\\site-packages\\pandas\\io\\parsers\\readers.py:950\u001b[0m, in \u001b[0;36mread_csv\u001b[1;34m(filepath_or_buffer, sep, delimiter, header, names, index_col, usecols, squeeze, prefix, mangle_dupe_cols, dtype, engine, converters, true_values, false_values, skipinitialspace, skiprows, skipfooter, nrows, na_values, keep_default_na, na_filter, verbose, skip_blank_lines, parse_dates, infer_datetime_format, keep_date_col, date_parser, dayfirst, cache_dates, iterator, chunksize, compression, thousands, decimal, lineterminator, quotechar, quoting, doublequote, escapechar, comment, encoding, encoding_errors, dialect, error_bad_lines, warn_bad_lines, on_bad_lines, delim_whitespace, low_memory, memory_map, float_precision, storage_options)\u001b[0m\n\u001b[0;32m    935\u001b[0m kwds_defaults \u001b[38;5;241m=\u001b[39m _refine_defaults_read(\n\u001b[0;32m    936\u001b[0m     dialect,\n\u001b[0;32m    937\u001b[0m     delimiter,\n\u001b[1;32m   (...)\u001b[0m\n\u001b[0;32m    946\u001b[0m     defaults\u001b[38;5;241m=\u001b[39m{\u001b[38;5;124m\"\u001b[39m\u001b[38;5;124mdelimiter\u001b[39m\u001b[38;5;124m\"\u001b[39m: \u001b[38;5;124m\"\u001b[39m\u001b[38;5;124m,\u001b[39m\u001b[38;5;124m\"\u001b[39m},\n\u001b[0;32m    947\u001b[0m )\n\u001b[0;32m    948\u001b[0m kwds\u001b[38;5;241m.\u001b[39mupdate(kwds_defaults)\n\u001b[1;32m--> 950\u001b[0m \u001b[38;5;28;01mreturn\u001b[39;00m \u001b[43m_read\u001b[49m\u001b[43m(\u001b[49m\u001b[43mfilepath_or_buffer\u001b[49m\u001b[43m,\u001b[49m\u001b[43m \u001b[49m\u001b[43mkwds\u001b[49m\u001b[43m)\u001b[49m\n",
      "File \u001b[1;32md:\\task_folder\\sources\\dship_model\\lighthouse_venv\\lib\\site-packages\\pandas\\io\\parsers\\readers.py:605\u001b[0m, in \u001b[0;36m_read\u001b[1;34m(filepath_or_buffer, kwds)\u001b[0m\n\u001b[0;32m    602\u001b[0m _validate_names(kwds\u001b[38;5;241m.\u001b[39mget(\u001b[38;5;124m\"\u001b[39m\u001b[38;5;124mnames\u001b[39m\u001b[38;5;124m\"\u001b[39m, \u001b[38;5;28;01mNone\u001b[39;00m))\n\u001b[0;32m    604\u001b[0m \u001b[38;5;66;03m# Create the parser.\u001b[39;00m\n\u001b[1;32m--> 605\u001b[0m parser \u001b[38;5;241m=\u001b[39m \u001b[43mTextFileReader\u001b[49m\u001b[43m(\u001b[49m\u001b[43mfilepath_or_buffer\u001b[49m\u001b[43m,\u001b[49m\u001b[43m \u001b[49m\u001b[38;5;241;43m*\u001b[39;49m\u001b[38;5;241;43m*\u001b[39;49m\u001b[43mkwds\u001b[49m\u001b[43m)\u001b[49m\n\u001b[0;32m    607\u001b[0m \u001b[38;5;28;01mif\u001b[39;00m chunksize \u001b[38;5;129;01mor\u001b[39;00m iterator:\n\u001b[0;32m    608\u001b[0m     \u001b[38;5;28;01mreturn\u001b[39;00m parser\n",
      "File \u001b[1;32md:\\task_folder\\sources\\dship_model\\lighthouse_venv\\lib\\site-packages\\pandas\\io\\parsers\\readers.py:1442\u001b[0m, in \u001b[0;36mTextFileReader.__init__\u001b[1;34m(self, f, engine, **kwds)\u001b[0m\n\u001b[0;32m   1439\u001b[0m     \u001b[38;5;28mself\u001b[39m\u001b[38;5;241m.\u001b[39moptions[\u001b[38;5;124m\"\u001b[39m\u001b[38;5;124mhas_index_names\u001b[39m\u001b[38;5;124m\"\u001b[39m] \u001b[38;5;241m=\u001b[39m kwds[\u001b[38;5;124m\"\u001b[39m\u001b[38;5;124mhas_index_names\u001b[39m\u001b[38;5;124m\"\u001b[39m]\n\u001b[0;32m   1441\u001b[0m \u001b[38;5;28mself\u001b[39m\u001b[38;5;241m.\u001b[39mhandles: IOHandles \u001b[38;5;241m|\u001b[39m \u001b[38;5;28;01mNone\u001b[39;00m \u001b[38;5;241m=\u001b[39m \u001b[38;5;28;01mNone\u001b[39;00m\n\u001b[1;32m-> 1442\u001b[0m \u001b[38;5;28mself\u001b[39m\u001b[38;5;241m.\u001b[39m_engine \u001b[38;5;241m=\u001b[39m \u001b[38;5;28;43mself\u001b[39;49m\u001b[38;5;241;43m.\u001b[39;49m\u001b[43m_make_engine\u001b[49m\u001b[43m(\u001b[49m\u001b[43mf\u001b[49m\u001b[43m,\u001b[49m\u001b[43m \u001b[49m\u001b[38;5;28;43mself\u001b[39;49m\u001b[38;5;241;43m.\u001b[39;49m\u001b[43mengine\u001b[49m\u001b[43m)\u001b[49m\n",
      "File \u001b[1;32md:\\task_folder\\sources\\dship_model\\lighthouse_venv\\lib\\site-packages\\pandas\\io\\parsers\\readers.py:1735\u001b[0m, in \u001b[0;36mTextFileReader._make_engine\u001b[1;34m(self, f, engine)\u001b[0m\n\u001b[0;32m   1733\u001b[0m     \u001b[38;5;28;01mif\u001b[39;00m \u001b[38;5;124m\"\u001b[39m\u001b[38;5;124mb\u001b[39m\u001b[38;5;124m\"\u001b[39m \u001b[38;5;129;01mnot\u001b[39;00m \u001b[38;5;129;01min\u001b[39;00m mode:\n\u001b[0;32m   1734\u001b[0m         mode \u001b[38;5;241m+\u001b[39m\u001b[38;5;241m=\u001b[39m \u001b[38;5;124m\"\u001b[39m\u001b[38;5;124mb\u001b[39m\u001b[38;5;124m\"\u001b[39m\n\u001b[1;32m-> 1735\u001b[0m \u001b[38;5;28mself\u001b[39m\u001b[38;5;241m.\u001b[39mhandles \u001b[38;5;241m=\u001b[39m \u001b[43mget_handle\u001b[49m\u001b[43m(\u001b[49m\n\u001b[0;32m   1736\u001b[0m \u001b[43m    \u001b[49m\u001b[43mf\u001b[49m\u001b[43m,\u001b[49m\n\u001b[0;32m   1737\u001b[0m \u001b[43m    \u001b[49m\u001b[43mmode\u001b[49m\u001b[43m,\u001b[49m\n\u001b[0;32m   1738\u001b[0m \u001b[43m    \u001b[49m\u001b[43mencoding\u001b[49m\u001b[38;5;241;43m=\u001b[39;49m\u001b[38;5;28;43mself\u001b[39;49m\u001b[38;5;241;43m.\u001b[39;49m\u001b[43moptions\u001b[49m\u001b[38;5;241;43m.\u001b[39;49m\u001b[43mget\u001b[49m\u001b[43m(\u001b[49m\u001b[38;5;124;43m\"\u001b[39;49m\u001b[38;5;124;43mencoding\u001b[39;49m\u001b[38;5;124;43m\"\u001b[39;49m\u001b[43m,\u001b[49m\u001b[43m \u001b[49m\u001b[38;5;28;43;01mNone\u001b[39;49;00m\u001b[43m)\u001b[49m\u001b[43m,\u001b[49m\n\u001b[0;32m   1739\u001b[0m \u001b[43m    \u001b[49m\u001b[43mcompression\u001b[49m\u001b[38;5;241;43m=\u001b[39;49m\u001b[38;5;28;43mself\u001b[39;49m\u001b[38;5;241;43m.\u001b[39;49m\u001b[43moptions\u001b[49m\u001b[38;5;241;43m.\u001b[39;49m\u001b[43mget\u001b[49m\u001b[43m(\u001b[49m\u001b[38;5;124;43m\"\u001b[39;49m\u001b[38;5;124;43mcompression\u001b[39;49m\u001b[38;5;124;43m\"\u001b[39;49m\u001b[43m,\u001b[49m\u001b[43m \u001b[49m\u001b[38;5;28;43;01mNone\u001b[39;49;00m\u001b[43m)\u001b[49m\u001b[43m,\u001b[49m\n\u001b[0;32m   1740\u001b[0m \u001b[43m    \u001b[49m\u001b[43mmemory_map\u001b[49m\u001b[38;5;241;43m=\u001b[39;49m\u001b[38;5;28;43mself\u001b[39;49m\u001b[38;5;241;43m.\u001b[39;49m\u001b[43moptions\u001b[49m\u001b[38;5;241;43m.\u001b[39;49m\u001b[43mget\u001b[49m\u001b[43m(\u001b[49m\u001b[38;5;124;43m\"\u001b[39;49m\u001b[38;5;124;43mmemory_map\u001b[39;49m\u001b[38;5;124;43m\"\u001b[39;49m\u001b[43m,\u001b[49m\u001b[43m \u001b[49m\u001b[38;5;28;43;01mFalse\u001b[39;49;00m\u001b[43m)\u001b[49m\u001b[43m,\u001b[49m\n\u001b[0;32m   1741\u001b[0m \u001b[43m    \u001b[49m\u001b[43mis_text\u001b[49m\u001b[38;5;241;43m=\u001b[39;49m\u001b[43mis_text\u001b[49m\u001b[43m,\u001b[49m\n\u001b[0;32m   1742\u001b[0m \u001b[43m    \u001b[49m\u001b[43merrors\u001b[49m\u001b[38;5;241;43m=\u001b[39;49m\u001b[38;5;28;43mself\u001b[39;49m\u001b[38;5;241;43m.\u001b[39;49m\u001b[43moptions\u001b[49m\u001b[38;5;241;43m.\u001b[39;49m\u001b[43mget\u001b[49m\u001b[43m(\u001b[49m\u001b[38;5;124;43m\"\u001b[39;49m\u001b[38;5;124;43mencoding_errors\u001b[39;49m\u001b[38;5;124;43m\"\u001b[39;49m\u001b[43m,\u001b[49m\u001b[43m \u001b[49m\u001b[38;5;124;43m\"\u001b[39;49m\u001b[38;5;124;43mstrict\u001b[39;49m\u001b[38;5;124;43m\"\u001b[39;49m\u001b[43m)\u001b[49m\u001b[43m,\u001b[49m\n\u001b[0;32m   1743\u001b[0m \u001b[43m    \u001b[49m\u001b[43mstorage_options\u001b[49m\u001b[38;5;241;43m=\u001b[39;49m\u001b[38;5;28;43mself\u001b[39;49m\u001b[38;5;241;43m.\u001b[39;49m\u001b[43moptions\u001b[49m\u001b[38;5;241;43m.\u001b[39;49m\u001b[43mget\u001b[49m\u001b[43m(\u001b[49m\u001b[38;5;124;43m\"\u001b[39;49m\u001b[38;5;124;43mstorage_options\u001b[39;49m\u001b[38;5;124;43m\"\u001b[39;49m\u001b[43m,\u001b[49m\u001b[43m \u001b[49m\u001b[38;5;28;43;01mNone\u001b[39;49;00m\u001b[43m)\u001b[49m\u001b[43m,\u001b[49m\n\u001b[0;32m   1744\u001b[0m \u001b[43m\u001b[49m\u001b[43m)\u001b[49m\n\u001b[0;32m   1745\u001b[0m \u001b[38;5;28;01massert\u001b[39;00m \u001b[38;5;28mself\u001b[39m\u001b[38;5;241m.\u001b[39mhandles \u001b[38;5;129;01mis\u001b[39;00m \u001b[38;5;129;01mnot\u001b[39;00m \u001b[38;5;28;01mNone\u001b[39;00m\n\u001b[0;32m   1746\u001b[0m f \u001b[38;5;241m=\u001b[39m \u001b[38;5;28mself\u001b[39m\u001b[38;5;241m.\u001b[39mhandles\u001b[38;5;241m.\u001b[39mhandle\n",
      "File \u001b[1;32md:\\task_folder\\sources\\dship_model\\lighthouse_venv\\lib\\site-packages\\pandas\\io\\common.py:865\u001b[0m, in \u001b[0;36mget_handle\u001b[1;34m(path_or_buf, mode, encoding, compression, memory_map, is_text, errors, storage_options)\u001b[0m\n\u001b[0;32m    856\u001b[0m         handle \u001b[38;5;241m=\u001b[39m \u001b[38;5;28mopen\u001b[39m(\n\u001b[0;32m    857\u001b[0m             handle,\n\u001b[0;32m    858\u001b[0m             ioargs\u001b[38;5;241m.\u001b[39mmode,\n\u001b[1;32m   (...)\u001b[0m\n\u001b[0;32m    861\u001b[0m             newline\u001b[38;5;241m=\u001b[39m\u001b[38;5;124m\"\u001b[39m\u001b[38;5;124m\"\u001b[39m,\n\u001b[0;32m    862\u001b[0m         )\n\u001b[0;32m    863\u001b[0m     \u001b[38;5;28;01melse\u001b[39;00m:\n\u001b[0;32m    864\u001b[0m         \u001b[38;5;66;03m# Binary mode\u001b[39;00m\n\u001b[1;32m--> 865\u001b[0m         handle \u001b[38;5;241m=\u001b[39m \u001b[38;5;28;43mopen\u001b[39;49m\u001b[43m(\u001b[49m\u001b[43mhandle\u001b[49m\u001b[43m,\u001b[49m\u001b[43m \u001b[49m\u001b[43mioargs\u001b[49m\u001b[38;5;241;43m.\u001b[39;49m\u001b[43mmode\u001b[49m\u001b[43m)\u001b[49m\n\u001b[0;32m    866\u001b[0m     handles\u001b[38;5;241m.\u001b[39mappend(handle)\n\u001b[0;32m    868\u001b[0m \u001b[38;5;66;03m# Convert BytesIO or file objects passed with an encoding\u001b[39;00m\n",
      "\u001b[1;31mFileNotFoundError\u001b[0m: [Errno 2] No such file or directory: 'C:\\\\Users\\\\digitalship_PC/ori_data/adult.csv'"
     ]
    }
   ],
   "source": [
    "%%capture\n",
    "# lighthouse 시각화\n",
    "lf.lh_ori_vis(dataset,prediction)"
   ]
  },
  {
   "cell_type": "code",
   "execution_count": 6,
   "id": "86880761-d386-4df1-878f-a6bedf6dfc0f",
   "metadata": {},
   "outputs": [],
   "source": [
    "%%capture\n",
    "# 데이터 품질 보고서 저장\n",
    "lf.DQ_before_save(project,dataset);"
   ]
  },
  {
   "cell_type": "markdown",
   "id": "a6af4062-dcdd-46cd-b202-1ade7d046883",
   "metadata": {},
   "source": [
    "### 전처리"
   ]
  },
  {
   "cell_type": "code",
   "execution_count": 6,
   "id": "9c541c6f-2837-4173-b0fd-01f91eb81a46",
   "metadata": {},
   "outputs": [],
   "source": [
    "import numpy as np\n",
    "from sklearn.preprocessing import LabelEncoder, OneHotEncoder\n",
    "y=df['income']\n",
    "#교육 컬럼 제거\n",
    "df=df.drop('education',axis=1)\n",
    "# '?' 결측치로 바꿔주기\n",
    "df.replace('?',np.nan,inplace=True)\n",
    "\n",
    "#데이터 타입 나누기\n",
    "num_col = df.select_dtypes('int','float').columns\n",
    "cat_col = df.select_dtypes('object','bool').columns\n",
    "\n",
    "# 로그화 오류 방지를 위해 0이 존재하는 컬럼에 적절한 처리\n",
    "for i in ['capital-gain','capital-loss']:\n",
    "    df[i] = df[i] + 1\n",
    "\n",
    "# 로그화 진행\n",
    "for i in num_col:\n",
    "        df[i]=np.log(df[i])\n",
    "\n",
    "# 성별, 수익 컬럼 원핫 인코딩 처리\n",
    "inc = {'<=50K':0, '>50K':1}\n",
    "gen = {'Male':0, 'Female':1}\n",
    "df['income']=df['income'].map(inc)\n",
    "df['gender']=df['gender'].map(gen)\n",
    "# 라벨 인코딩\n",
    "for i in cat_col:\n",
    "        df[i] = LabelEncoder().fit_transform(df[i])\n",
    "\n",
    "# 결측치 처리 - 평균값 대체\n",
    "for i in df.columns:\n",
    "    df[i] = df[i].fillna(df[i].mean)\n",
    "\n",
    "prepro_save = df.to_csv(f'prepro_data/{dataset}_transformed.csv',index=False)\n",
    "\n",
    "df_prepro = pd.read_csv(f'prepro_data/{dataset}_transformed.csv', encoding='utf-8')"
   ]
  },
  {
   "cell_type": "code",
   "execution_count": 10,
   "id": "c0d31c40-decc-4f56-933b-1a667cf35f99",
   "metadata": {},
   "outputs": [],
   "source": [
    "%%capture\n",
    "lf.lh_prepro_vis(dataset,prediction)"
   ]
  },
  {
   "cell_type": "code",
   "execution_count": 11,
   "id": "f67bfdd6-2093-4264-bb6a-d4fb65abd5ec",
   "metadata": {},
   "outputs": [],
   "source": [
    "%%capture\n",
    "lf.lh_image_upload(project,'image',dataset,prediction)"
   ]
  },
  {
   "cell_type": "code",
   "execution_count": 12,
   "id": "90755f19-a739-490b-9fbe-338dc765c14c",
   "metadata": {},
   "outputs": [],
   "source": [
    "%%capture\n",
    "lf.DQ_after_save(project,dataset);"
   ]
  },
  {
   "cell_type": "code",
   "execution_count": 8,
   "id": "b9eba30f-cb6f-43a2-adb0-6d958aad670d",
   "metadata": {
    "scrolled": true
   },
   "outputs": [
    {
     "name": "stdout",
     "output_type": "stream",
     "text": [
      "Training lr...\n",
      "Best Parameters: {'C': 0.1789838984867159, 'l1_ratio': 0.17052412368729153, 'max_iter': 1000, 'penalty': 'l1', 'solver': 'saga'}\n",
      "Mean Cross-Validation Accuracy: 0.8198\n",
      "Test Set Accuracy: 0.8201\n",
      "\n",
      "Training rf...\n",
      "Best Parameters: {'max_depth': 17, 'min_samples_leaf': 10, 'min_samples_split': 17, 'n_estimators': 24}\n",
      "Mean Cross-Validation Accuracy: 0.8644\n",
      "Test Set Accuracy: 0.8647\n",
      "\n",
      "Training gbc...\n",
      "Best Parameters: {'learning_rate': 0.037520558551242804, 'max_depth': 12, 'min_samples_leaf': 17, 'min_samples_split': 11, 'n_estimators': 197}\n",
      "Mean Cross-Validation Accuracy: 0.8703\n",
      "Test Set Accuracy: 0.8714\n",
      "\n",
      "Training ac...\n",
      "Best Parameters: {'learning_rate': 0.8123245085588684, 'n_estimators': 167}\n",
      "Mean Cross-Validation Accuracy: 0.8662\n",
      "Test Set Accuracy: 0.8651\n",
      "\n",
      "Training xgbc...\n",
      "Best Parameters: {'colsample_bytree': 0.9244569121330419, 'learning_rate': 0.14628121654892817, 'max_depth': 14, 'min_child_weight': 7, 'n_estimators': 36, 'subsample': 0.7613664146909971}\n",
      "Mean Cross-Validation Accuracy: 0.8684\n",
      "Test Set Accuracy: 0.8695\n",
      "\n",
      "Training knc...\n",
      "Best Parameters: {'algorithm': 'brute', 'n_neighbors': 16, 'weights': 'uniform'}\n",
      "Mean Cross-Validation Accuracy: 0.8374\n",
      "Test Set Accuracy: 0.8360\n",
      "\n",
      "Model Performance Ranking:\n",
      "  Model  Accuracy     AUC     Recall     Prec.      F1       Kappa      MCC  \n",
      "2   gbc  0.871357  0.924316  0.648789  0.771340  0.704777  0.623319  0.627132\n",
      "4  xgbc  0.869515  0.921929  0.639562  0.770139  0.698803  0.616430  0.620764\n",
      "3    ac  0.865147  0.919660  0.607555  0.774063  0.680775  0.596861  0.603897\n",
      "1    rf  0.864669  0.915190  0.594579  0.781357  0.675291  0.591793  0.600603\n",
      "5   knc  0.836006  0.878454  0.568916  0.684832  0.621515  0.517981  0.521609\n",
      "0    lr  0.820105  0.846640  0.448385  0.682616  0.541246  0.435269  0.450143\n"
     ]
    }
   ],
   "source": [
    "from sklearn.model_selection import cross_val_score\n",
    "from sklearn.metrics import accuracy_score, f1_score, recall_score, precision_score, roc_auc_score\n",
    "from sklearn.metrics import cohen_kappa_score, matthews_corrcoef\n",
    "from sklearn.linear_model import LogisticRegression\n",
    "from sklearn.ensemble import RandomForestClassifier, AdaBoostClassifier, GradientBoostingClassifier\n",
    "from sklearn.tree import DecisionTreeClassifier\n",
    "from xgboost import XGBClassifier\n",
    "from sklearn.model_selection import train_test_split\n",
    "from sklearn.neighbors import KNeighborsClassifier\n",
    "from sklearn.model_selection import RandomizedSearchCV\n",
    "from scipy.stats import randint, uniform, loguniform\n",
    "from sklearn.preprocessing import StandardScaler\n",
    "\n",
    "# 훈련 평가 데이터셋 분할\n",
    "X = df_prepro.drop('income',axis=1)\n",
    "y = df_prepro['income']\n",
    "X_train,X_test, y_train,y_test = train_test_split(X,y, train_size=0.7, random_state=999)\n",
    "\n",
    "SC = StandardScaler()\n",
    "X_train_si = SC.fit_transform(X_train)\n",
    "X_test_si = SC.transform(X_test)\n",
    "\n",
    "\n",
    "\n",
    "model_grid = {\n",
    "    'lr': LogisticRegression(random_state=42),\n",
    "    'rf': RandomForestClassifier(random_state=42),\n",
    "    'gbc': GradientBoostingClassifier(random_state=42),\n",
    "    'ac': AdaBoostClassifier(random_state=42),\n",
    "    'xgbc': XGBClassifier(random_state=42),\n",
    "    'knc': KNeighborsClassifier()\n",
    "}\n",
    "\n",
    "\n",
    "# 모델 이름과 클래스 이름 매핑\n",
    "model_class_mapping = {\n",
    "    'lr': 'LogisticRegression',\n",
    "    'rf': 'RandomForestClassifier',\n",
    "    'gbc': 'GradientBoostingClassifier',\n",
    "    'ac': 'AdaBoostClassifier',\n",
    "    'xgbc': 'XGBClassifier',\n",
    "    'knc': 'KNeighborsClassifier'\n",
    "}\n",
    "\n",
    "# 각 모델에 대한 튜닝과 적합 결과 저장\n",
    "model_results = []\n",
    "\n",
    "def get_param_distributions():\n",
    "    return {\n",
    "        'LogisticRegression': {\n",
    "            'C': loguniform(1e-5, 100),\n",
    "            'penalty': ['elasticnet', 'l2', 'l1',None ],\n",
    "            'solver': ['saga'],  # saga는 모든 페널티 타입을 지원합니다\n",
    "            'l1_ratio': uniform(0, 1),  # elasticnet을 위한 l1_ratio\n",
    "            'max_iter': [1000]  # 수렴을 위해 반복 횟수 증가\n",
    "        },\n",
    "        'RandomForestClassifier': {\n",
    "            'n_estimators': randint(10, 200),\n",
    "            'max_depth': randint(1, 20),\n",
    "            'min_samples_split': randint(2, 20),\n",
    "            'min_samples_leaf': randint(1, 20)\n",
    "        },\n",
    "        'GradientBoostingClassifier': {\n",
    "            'n_estimators': randint(10, 200),\n",
    "            'learning_rate': loguniform(0.001, 1),\n",
    "            'max_depth': randint(1, 20),\n",
    "            'min_samples_split': randint(2, 20),\n",
    "            'min_samples_leaf': randint(1, 20)\n",
    "        },\n",
    "        'AdaBoostClassifier': {\n",
    "            'n_estimators': randint(10, 200),\n",
    "            'learning_rate': loguniform(0.001, 1)\n",
    "        },\n",
    "        'XGBClassifier': {\n",
    "            'n_estimators': randint(10, 200),\n",
    "            'learning_rate': loguniform(0.001, 1),\n",
    "            'max_depth': randint(1, 20),\n",
    "            'min_child_weight': randint(1, 10),\n",
    "            'subsample': uniform(0.5, 0.5),\n",
    "            'colsample_bytree': uniform(0.5, 0.5)\n",
    "        },\n",
    "        'KNeighborsClassifier': {\n",
    "            'n_neighbors': randint(1, 20),\n",
    "            'weights': ['uniform', 'distance'],\n",
    "            'algorithm': ['auto', 'ball_tree', 'kd_tree', 'brute']\n",
    "        }\n",
    "    }\n",
    "\n",
    "\n",
    "# 파라미터 분포 가져오기\n",
    "param_distributions = get_param_distributions()\n",
    "\n",
    "# 각 모델에 대한 랜덤 서치 수행\n",
    "for model_name, m in model_grid.items():\n",
    "    print(f\"Training {model_name}...\")\n",
    "    \n",
    "    # 해당 모델의 파라미터 분포 가져오기\n",
    "    class_name = model_class_mapping[model_name]\n",
    "    params = param_distributions.get(class_name, {})\n",
    "    \n",
    "    if not params:\n",
    "        print(f\"Warning: No parameters found for {model_name} ({class_name}). Skipping this model.\")\n",
    "        continue\n",
    "    \n",
    "    random_search = RandomizedSearchCV(m, param_distributions=params, n_iter=20, \n",
    "                                       scoring='accuracy', cv=3, n_jobs=-1, \n",
    "                                       random_state=42, error_score='raise')\n",
    "    \n",
    "    try:\n",
    "        random_search.fit(X_train_si, y_train)\n",
    "        best_model = random_search.best_estimator_\n",
    "        best_params = random_search.best_params_\n",
    "        print(f\"Best Parameters: {best_params}\")\n",
    "        \n",
    "        # 교차 검증 점수 계산\n",
    "        cv_scores = cross_val_score(best_model, X_train_si, y_train, cv=3, scoring='accuracy')\n",
    "        mean_cv_score = np.mean(cv_scores)\n",
    "        print(f\"Mean Cross-Validation Accuracy: {mean_cv_score:.4f}\")\n",
    "        \n",
    "        # 테스트 세트에 대한 성능 평가\n",
    "        y_pred = best_model.predict(X_test_si)\n",
    "        y_pred_proba = best_model.predict_proba(X_test_si)[:, 1]\n",
    "        \n",
    "        accuracy = accuracy_score(y_test, y_pred)\n",
    "        auc = roc_auc_score(y_test, y_pred_proba)\n",
    "        recall = recall_score(y_test, y_pred)\n",
    "        precision = precision_score(y_test, y_pred)\n",
    "        f1 = f1_score(y_test, y_pred)\n",
    "        kappa = cohen_kappa_score(y_test, y_pred)\n",
    "        mcc = matthews_corrcoef(y_test, y_pred)\n",
    "        \n",
    "        print(f\"Test Set Accuracy: {accuracy:.4f}\\n\")\n",
    "        \n",
    "        # 모델 이름과 메트릭 결과 저장\n",
    "        model_results.append({\n",
    "            \"Model\": model_name,\n",
    "            \"Accuracy\": accuracy,\n",
    "            \"AUC\": auc,\n",
    "            \"Recall\": recall,\n",
    "            \"Prec.\": precision,\n",
    "            \"F1\": f1,\n",
    "            \"Kappa\": kappa,\n",
    "            \"MCC\": mcc\n",
    "        })\n",
    "    except Exception as e:\n",
    "        print(f\"Error occurred while training {model_name}: {str(e)}\")\n",
    "\n",
    "# 결과를 DataFrame으로 변환\n",
    "results_df = pd.DataFrame(model_results)\n",
    "\n",
    "# 결과 정렬\n",
    "results_df = results_df.sort_values(\"Accuracy\", ascending=False)\n",
    "\n",
    "print(\"Model Performance Ranking:\")\n",
    "print(results_df)\n"
   ]
  },
  {
   "cell_type": "code",
   "execution_count": 9,
   "id": "24a1b784-a23f-41a1-ad3c-4a65b4824332",
   "metadata": {
    "scrolled": true
   },
   "outputs": [
    {
     "name": "stdout",
     "output_type": "stream",
     "text": [
      "Training GradientBoostingClassifier...\n",
      "Best Parameters: {'learning_rate': 0.037520558551242804, 'max_depth': 12, 'min_samples_leaf': 17, 'min_samples_split': 11, 'n_estimators': 197}\n",
      "Mean Cross-Validation Accuracy: 0.8703\n",
      "Test Set Accuracy: 0.8714\n",
      "AUC: 0.9243\n",
      "Recall: 0.6488\n",
      "Precision: 0.7713\n",
      "F1 Score: 0.7048\n",
      "Cohen's Kappa: 0.6233\n",
      "Matthews Correlation Coefficient: 0.6271\n",
      "Model saved as pkl/adult_gbc.pkl\n"
     ]
    }
   ],
   "source": [
    "import pickle\n",
    "from sklearn.model_selection import cross_val_score\n",
    "from sklearn.metrics import accuracy_score, f1_score, recall_score, precision_score, roc_auc_score\n",
    "from sklearn.metrics import cohen_kappa_score, matthews_corrcoef\n",
    "from sklearn.preprocessing import StandardScaler\n",
    "import os\n",
    "import numpy as np\n",
    "\n",
    "model_class_mapping = {\n",
    "    'lr': 'LogisticRegression',\n",
    "    'rf': 'RandomForestClassifier',\n",
    "    'gbc': 'GradientBoostingClassifier',\n",
    "    'ac': 'AdaBoostClassifier',\n",
    "    'xgbc': 'XGBClassifier',\n",
    "    'knc': 'KNeighborsClassifier'\n",
    "}\n",
    "\n",
    "# 모델 그리드에서 선택된 모델 가져오기\n",
    "selected_model = model_grid.get(model)\n",
    "if selected_model is None:\n",
    "    raise ValueError(f\"Invalid model name: {model}\")\n",
    "\n",
    "# 파라미터 분포 가져오기\n",
    "param_distributions = get_param_distributions()\n",
    "class_name = model_class_mapping.get(model)\n",
    "params = param_distributions.get(class_name, {})\n",
    "\n",
    "if not params:\n",
    "    print(f\"Warning: No parameters found for {model} ({class_name}). Using default parameters.\")\n",
    "\n",
    "# RandomizedSearchCV 수행\n",
    "print(f\"Training {selected_model.__class__.__name__}...\")\n",
    "random_search = RandomizedSearchCV(selected_model, param_distributions=params, n_iter=20, \n",
    "                                   scoring='accuracy', cv=3, n_jobs=-1, \n",
    "                                   random_state=42)\n",
    "\n",
    "try:\n",
    "    random_search.fit(X_train_si, y_train)\n",
    "    best_model = random_search.best_estimator_\n",
    "    best_params = random_search.best_params_\n",
    "    print(f\"Best Parameters: {best_params}\")\n",
    "    \n",
    "    # 교차 검증 점수 계산\n",
    "    cv_scores = cross_val_score(best_model, X_train_si, y_train, cv=3, scoring='accuracy')\n",
    "    mean_cv_score = np.mean(cv_scores)\n",
    "    print(f\"Mean Cross-Validation Accuracy: {mean_cv_score:.4f}\")\n",
    "    \n",
    "    # 테스트 세트에 대한 성능 평가\n",
    "    y_pred = best_model.predict(X_test_si)\n",
    "    y_pred_proba = best_model.predict_proba(X_test_si)[:, 1]\n",
    "    \n",
    "    accuracy = accuracy_score(y_test, y_pred)\n",
    "    auc = roc_auc_score(y_test, y_pred_proba)\n",
    "    recall = recall_score(y_test, y_pred)\n",
    "    precision = precision_score(y_test, y_pred)\n",
    "    f1 = f1_score(y_test, y_pred)\n",
    "    kappa = cohen_kappa_score(y_test, y_pred)\n",
    "    mcc = matthews_corrcoef(y_test, y_pred)\n",
    "    \n",
    "    print(f\"Test Set Accuracy: {accuracy:.4f}\")\n",
    "    print(f\"AUC: {auc:.4f}\")\n",
    "    print(f\"Recall: {recall:.4f}\")\n",
    "    print(f\"Precision: {precision:.4f}\")\n",
    "    print(f\"F1 Score: {f1:.4f}\")\n",
    "    print(f\"Cohen's Kappa: {kappa:.4f}\")\n",
    "    print(f\"Matthews Correlation Coefficient: {mcc:.4f}\")\n",
    "    \n",
    "    # pkl/ 디렉토리 생성 (없는 경우)\n",
    "    os.makedirs('pkl', exist_ok=True)\n",
    "    \n",
    "    # 모델을 pkl 파일로 저장\n",
    "    model_filename = f\"pkl/{dataset}_{model}.pkl\"\n",
    "    with open(model_filename, 'wb') as file:\n",
    "        pickle.dump(best_model, file)\n",
    "    print(f\"Model saved as {model_filename}\")\n",
    "\n",
    "except Exception as e:\n",
    "    print(f\"Error occurred while training {selected_model.__class__.__name__}: {str(e)}\")"
   ]
  },
  {
   "cell_type": "code",
   "execution_count": 16,
   "id": "26a426b2-3bb5-4608-b625-ed9091966588",
   "metadata": {},
   "outputs": [
    {
     "name": "stdout",
     "output_type": "stream",
     "text": [
      "파일명 json/adult_fairness.json으로 json 저장 완료\n"
     ]
    },
    {
     "data": {
      "text/plain": [
       "'[\\n  {\\n    \"Model\": \"gbc\",\\n    \"Accuracy\": 0.8713574012147683,\\n    \"AUC\": 0.9243153573717479,\\n    \"Recall\": 0.6487889273356401,\\n    \"Prec.\": 0.7713404182379157,\\n    \"F1\": 0.7047768206734534,\\n    \"Kappa\": 0.6233192416341938,\\n    \"MCC\": 0.6271323476729642\\n  },\\n  {\\n    \"Model\": \"xgbc\",\\n    \"Accuracy\": 0.868832321026411,\\n    \"AUC\": 0.9227761553489365,\\n    \"Recall\": 0.6375432525951558,\\n    \"Prec.\": 0.7687760778859527,\\n    \"F1\": 0.6970365699873896,\\n    \"Kappa\": 0.614261094018334,\\n    \"MCC\": 0.6186431161787693\\n  },\\n  {\\n    \"Model\": \"ac\",\\n    \"Accuracy\": 0.8651470688596192,\\n    \"AUC\": 0.9196599318683006,\\n    \"Recall\": 0.6075547866205305,\\n    \"Prec.\": 0.7740631888317414,\\n    \"F1\": 0.6807754442649434,\\n    \"Kappa\": 0.5968614640710783,\\n    \"MCC\": 0.6038967577273111\\n  },\\n  {\\n    \"Model\": \"rf\",\\n    \"Accuracy\": 0.8646693509861462,\\n    \"AUC\": 0.9151901490039336,\\n    \"Recall\": 0.5945790080738178,\\n    \"Prec.\": 0.7813565744600227,\\n    \"F1\": 0.6752906500736859,\\n    \"Kappa\": 0.5917929516978695,\\n    \"MCC\": 0.6006030174848319\\n  },\\n  {\\n    \"Model\": \"knc\",\\n    \"Accuracy\": 0.8360062785777657,\\n    \"AUC\": 0.8784598080206076,\\n    \"Recall\": 0.5689158016147635,\\n    \"Prec.\": 0.6848316556751128,\\n    \"F1\": 0.6215151992439755,\\n    \"Kappa\": 0.5179807587702335,\\n    \"MCC\": 0.521609248349216\\n  },\\n  {\\n    \"Model\": \"lr\",\\n    \"Accuracy\": 0.820105097932164,\\n    \"AUC\": 0.8466395614492346,\\n    \"Recall\": 0.4483852364475202,\\n    \"Prec.\": 0.6826163301141353,\\n    \"F1\": 0.5412460842325095,\\n    \"Kappa\": 0.43526891146885494,\\n    \"MCC\": 0.45014342449271416\\n  }\\n]'"
      ]
     },
     "execution_count": 16,
     "metadata": {},
     "output_type": "execute_result"
    }
   ],
   "source": [
    "lf.convert_pycaretfair_to_json(results_df, dataset)"
   ]
  },
  {
   "cell_type": "code",
   "execution_count": 21,
   "id": "5eae3e15-baa8-4f6a-9dbf-e13ee6541922",
   "metadata": {},
   "outputs": [
    {
     "data": {
      "text/html": [
       "<style type=\"text/css\">\n",
       "</style>\n",
       "<table id=\"T_c66b7\">\n",
       "  <thead>\n",
       "    <tr>\n",
       "      <th class=\"blank level0\" >&nbsp;</th>\n",
       "      <th id=\"T_c66b7_level0_col0\" class=\"col_heading level0 col0\" >Model</th>\n",
       "      <th id=\"T_c66b7_level0_col1\" class=\"col_heading level0 col1\" >Accuracy</th>\n",
       "      <th id=\"T_c66b7_level0_col2\" class=\"col_heading level0 col2\" >AUC</th>\n",
       "      <th id=\"T_c66b7_level0_col3\" class=\"col_heading level0 col3\" >Recall</th>\n",
       "      <th id=\"T_c66b7_level0_col4\" class=\"col_heading level0 col4\" >Prec.</th>\n",
       "      <th id=\"T_c66b7_level0_col5\" class=\"col_heading level0 col5\" >F1</th>\n",
       "      <th id=\"T_c66b7_level0_col6\" class=\"col_heading level0 col6\" >Kappa</th>\n",
       "      <th id=\"T_c66b7_level0_col7\" class=\"col_heading level0 col7\" >MCC</th>\n",
       "    </tr>\n",
       "  </thead>\n",
       "  <tbody>\n",
       "    <tr>\n",
       "      <th id=\"T_c66b7_level0_row0\" class=\"row_heading level0 row0\" >0</th>\n",
       "      <td id=\"T_c66b7_row0_col0\" class=\"data row0 col0\" >Gradient Boosting Classifier</td>\n",
       "      <td id=\"T_c66b7_row0_col1\" class=\"data row0 col1\" >0.5123</td>\n",
       "      <td id=\"T_c66b7_row0_col2\" class=\"data row0 col2\" >0.5238</td>\n",
       "      <td id=\"T_c66b7_row0_col3\" class=\"data row0 col3\" >0.4101</td>\n",
       "      <td id=\"T_c66b7_row0_col4\" class=\"data row0 col4\" >0.2242</td>\n",
       "      <td id=\"T_c66b7_row0_col5\" class=\"data row0 col5\" >0.2899</td>\n",
       "      <td id=\"T_c66b7_row0_col6\" class=\"data row0 col6\" >-0.0351</td>\n",
       "      <td id=\"T_c66b7_row0_col7\" class=\"data row0 col7\" >-0.0388</td>\n",
       "    </tr>\n",
       "  </tbody>\n",
       "</table>\n"
      ],
      "text/plain": [
       "<pandas.io.formats.style.Styler at 0x7f933488a1d0>"
      ]
     },
     "metadata": {},
     "output_type": "display_data"
    },
    {
     "name": "stdout",
     "output_type": "stream",
     "text": [
      "파일명 json/adult_fairness.json으로 json 저장 완료\n",
      "Json id 459 로 저장 완료됨\n"
     ]
    },
    {
     "data": {
      "image/png": "[encoded data removed]",
      "text/plain": [
       "<Figure size 1600x800 with 9 Axes>"
      ]
     },
     "metadata": {},
     "output_type": "display_data"
    }
   ],
   "source": [
    "%%capture\n",
    "lf.lh_fairness(project,project_type,dataset,model,sensitive_features)"
   ]
  },
  {
   "cell_type": "code",
   "execution_count": 16,
   "id": "5dae15ad-444a-4947-8e3e-a9b821c3851f",
   "metadata": {},
   "outputs": [
    {
     "name": "stdout",
     "output_type": "stream",
     "text": [
      "Json id 652 로 저장 완료됨\n",
      "Json id 653 로 저장 완료됨\n",
      "\n",
      "편향 전후 비교\n",
      "\n",
      "편향 제거 이전:\n",
      "      date     col_nm  demographic_parity_difference  \\\n",
      "0  2024-10-18     all            0.462205              \n",
      "1  2024-10-18  gender            0.346402              \n",
      "2  2024-10-18    race            0.159876              \n",
      "\n",
      "   demographic_parity_ratio  equalized_odds_difference  equalized_odds_ratio  \n",
      "0          0.407430                  0.697368                 0.302632        \n",
      "1          0.484879                  0.517264                 0.381217        \n",
      "2          0.724614                  0.193731                 0.667889        \n",
      "\n",
      " ----------------------------------------------------------------------------------------------------\n",
      "\n",
      "편향 제거 이후:\n",
      "      date     col_nm  demographic_parity_difference  \\\n",
      "0  2024-10-18     all            0.191065              \n",
      "1  2024-10-18  gender            0.009556              \n",
      "2  2024-10-18    race            0.078261              \n",
      "\n",
      "   demographic_parity_ratio  equalized_odds_difference  equalized_odds_ratio  \n",
      "0          0.258667                  0.625000                 0.071295        \n",
      "1          0.946694                  0.278237                 0.364026        \n",
      "2          0.593548                  0.274590                 0.435786        \n",
      "\n",
      "demographic_parity_difference(인구 동등성 차이): 머신러닝 예측 확률이 민감 집단으로 인해 영향받지 않는 정도의 차이. 0에 가까울수록 적당\n",
      "demographic_parity_ratio(인구 동등성 비율): 머신러닝 예측 확률이 민감 집단으로 인해 영향받지 않는 정도의 차이. 1에 가까울수록 적당\n",
      "equalized_odds_difference(균등화된 확률 차이): 예측 정도가 민감 집단에 영향받지 않는 정도는 물론, FP와 TP가 같은 수치를 보이고 있음을 나타내는 정도이다. 추가로 FP란 실제값이 거짓인데 참이라고 예측한 확률이며, TP는 실제값이 참이고, 참이라고 예측한 확률을 의미한다. 0에 가까울수록 모델이 더 공정. 0에서 멀어질수록 편향적.\n",
      "equalized_odds_ratio(균등 기회 확률): 머신러닝 모델의 예측 정확도가 서로 다른 민감 집단 간에 얼마나 일관되는지를 나타내는 비율. 1에 가까울수록 모델이 더 공정하다고 판단. 1에서 크게 벗어난 값은 특정 집단에 대한 편향이 존재한다고 추정 가능\n"
     ]
    },
    {
     "data": {
      "text/html": [
       "<div>\n",
       "<style scoped>\n",
       "    .dataframe tbody tr th:only-of-type {\n",
       "        vertical-align: middle;\n",
       "    }\n",
       "\n",
       "    .dataframe tbody tr th {\n",
       "        vertical-align: top;\n",
       "    }\n",
       "\n",
       "    .dataframe thead th {\n",
       "        text-align: right;\n",
       "    }\n",
       "</style>\n",
       "<table border=\"1\" class=\"dataframe\">\n",
       "  <thead>\n",
       "    <tr style=\"text-align: center;\">\n",
       "      <th></th>\n",
       "      <th>date</th>\n",
       "      <th>col_nm</th>\n",
       "      <th>demographic_parity_difference</th>\n",
       "      <th>demographic_parity_ratio</th>\n",
       "      <th>equalized_odds_difference</th>\n",
       "      <th>equalized_odds_ratio</th>\n",
       "    </tr>\n",
       "  </thead>\n",
       "  <tbody>\n",
       "    <tr>\n",
       "      <th>0</th>\n",
       "      <td>2024-10-18</td>\n",
       "      <td>all</td>\n",
       "      <td>0.191065</td>\n",
       "      <td>0.258667</td>\n",
       "      <td>0.625000</td>\n",
       "      <td>0.071295</td>\n",
       "    </tr>\n",
       "    <tr>\n",
       "      <th>1</th>\n",
       "      <td>2024-10-18</td>\n",
       "      <td>gender</td>\n",
       "      <td>0.009556</td>\n",
       "      <td>0.946694</td>\n",
       "      <td>0.278237</td>\n",
       "      <td>0.364026</td>\n",
       "    </tr>\n",
       "    <tr>\n",
       "      <th>2</th>\n",
       "      <td>2024-10-18</td>\n",
       "      <td>race</td>\n",
       "      <td>0.078261</td>\n",
       "      <td>0.593548</td>\n",
       "      <td>0.274590</td>\n",
       "      <td>0.435786</td>\n",
       "    </tr>\n",
       "  </tbody>\n",
       "</table>\n",
       "</div>"
      ],
      "text/plain": [
       "      date     col_nm  demographic_parity_difference  \\\n",
       "0  2024-10-18     all            0.191065              \n",
       "1  2024-10-18  gender            0.009556              \n",
       "2  2024-10-18    race            0.078261              \n",
       "\n",
       "   demographic_parity_ratio  equalized_odds_difference  equalized_odds_ratio  \n",
       "0          0.258667                  0.625000                 0.071295        \n",
       "1          0.946694                  0.278237                 0.364026        \n",
       "2          0.593548                  0.274590                 0.435786        "
      ]
     },
     "execution_count": 16,
     "metadata": {},
     "output_type": "execute_result"
    }
   ],
   "source": [
    "%%capture\n",
    "lf.model_bias_check(project,project_type,dataset, sensitive_features,train_size,prediction,model)"
   ]
  },
  {
   "cell_type": "code",
   "execution_count": null,
   "id": "cafce3c4-5243-4ffc-a90f-51ade9f03b57",
   "metadata": {},
   "outputs": [],
   "source": []
  }
 ],
 "metadata": {
  "kernelspec": {
   "display_name": "lighthouse_venv",
   "language": "python",
   "name": "python3"
  },
  "language_info": {
   "codemirror_mode": {
    "name": "ipython",
    "version": 3
   },
   "file_extension": ".py",
   "mimetype": "text/x-python",
   "name": "python",
   "nbconvert_exporter": "python",
   "pygments_lexer": "ipython3",
   "version": "3.8.10"
  }
 },
 "nbformat": 4,
 "nbformat_minor": 5
}
